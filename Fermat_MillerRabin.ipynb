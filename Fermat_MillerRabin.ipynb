{
 "cells": [
  {
   "cell_type": "markdown",
   "metadata": {},
   "source": [
    "### VJEROJATNOSNI TESTOVI PROSTOSTI"
   ]
  },
  {
   "cell_type": "markdown",
   "metadata": {},
   "source": [
    "Prostost prirodnog broja $n$ možemo provjeriti na klasičan način, kao što su direktna provjera djelitelja broja $n$. U pojedinim granama matematike postoji velika potreba za provjerom prostosti velikih prirodnih brojeva. U cilju poboljšanja brzine determinističkog pristupa provjere prostosti, uvodimo vjerojatnosne algoritme za testiranje prostosti. U nastavku navodimo Fermatov i Miller-Rabinov test prostosti."
   ]
  },
  {
   "cell_type": "markdown",
   "metadata": {},
   "source": [
    "Sljedeća funkcija predstavljat će klasičan pristup provjeri prostosti prirodnog broja. Ovim načinom provjere je prirodan broj uvijek ispravno klasificiran. To bi bio deterministički algoritam provjere."
   ]
  },
  {
   "cell_type": "code",
   "execution_count": 1,
   "metadata": {},
   "outputs": [],
   "source": [
    "def provjeri_prostost(n):\n",
    "    try:\n",
    "        n = int(n)\n",
    "    except:\n",
    "        print(\"Uneseni broj nije prirodan.\");\n",
    "        return\n",
    "    for i in range(2, int(n**0.5)+1):\n",
    "        if n%i == 0:\n",
    "            return False\n",
    "    return True"
   ]
  },
  {
   "cell_type": "markdown",
   "metadata": {},
   "source": [
    "### Fermatov test prostosti\n",
    "\n",
    "Fermatov test prostosti zasniva se na Malom Fermatovom teoremu:\n",
    "\n",
    "\n",
    "- Ako je $n$ prost broj, tada za proizvoljni $a$ relativno prost s $n$ vrijedi:\n",
    "$a^{n-1} \\equiv 1 \\pmod{n}$.\n",
    "\n",
    "Kongruenciju iz Malog Fermatovog teorema provjeravat ćemo za prirodan broj $n$ čiju prostost testiramo te proizvoljan broj, bazu $a$, td. $1 \\leq a \\leq n-1$."
   ]
  },
  {
   "cell_type": "code",
   "execution_count": 2,
   "metadata": {},
   "outputs": [],
   "source": [
    "import random\n",
    "from datetime import datetime\n",
    "random.seed(datetime.now())"
   ]
  },
  {
   "cell_type": "code",
   "execution_count": 3,
   "metadata": {},
   "outputs": [],
   "source": [
    "def nzd(a, b):\n",
    "    if a == 0:\n",
    "        return b\n",
    "    if b == 0:\n",
    "        return a\n",
    "    if a == b:\n",
    "        return b\n",
    "    return nzd(b%a, a)"
   ]
  },
  {
   "cell_type": "code",
   "execution_count": 4,
   "metadata": {},
   "outputs": [],
   "source": [
    "def Fermatov_test(n, a):\n",
    "    if a < 1 or a > n-1:\n",
    "        raise ValueError(\"Baza nije u dopuštenom rasponu.\")\n",
    "    if nzd(n, a) > 1:\n",
    "        return False\n",
    "    if a**(n-1) % n == 1:\n",
    "        return True\n",
    "    return False"
   ]
  },
  {
   "cell_type": "markdown",
   "metadata": {},
   "source": [
    "Sljedeća funkcija će za prizvoljan broj $n$ čiju prostost testiramo generirati $\\textit{broj provjera}$ različitih baza. Broj različitih baza odgovara broju provođenja Fermatovog testa za ulaz $n$. "
   ]
  },
  {
   "cell_type": "code",
   "execution_count": 5,
   "metadata": {},
   "outputs": [],
   "source": [
    "def generiraj_baze(n, broj_provjera):\n",
    "    try:\n",
    "        n = int(n)\n",
    "    except:\n",
    "        print(\"Uneseni broj nije prirodan.\");\n",
    "        return\n",
    "    baze = [random.randint(1, n-1) for i in range(0, broj_provjera)]\n",
    "    skup_razlicitih_baza = set(baze)\n",
    "    if broj_provjera > n-1:\n",
    "        raise ValueError(f\"Broj različitih baza ne može biti veći od broja {n-1}.\")\n",
    "    while(len(skup_razlicitih_baza) < broj_provjera):\n",
    "        skup_razlicitih_baza.add(random.randint(1, n-1))\n",
    "    baze = list(skup_razlicitih_baza)\n",
    "    return baze"
   ]
  },
  {
   "cell_type": "code",
   "execution_count": 6,
   "metadata": {},
   "outputs": [],
   "source": [
    "def provjeri_Fermatovim_testom(n, baze):\n",
    "    try:\n",
    "        n = int(n)\n",
    "    except:\n",
    "        print(\"Uneseni broj nije prirodan.\");\n",
    "        return\n",
    "    lista_odgovora = [(a, Fermatov_test(n, a)) for a in baze]\n",
    "    # ako n ne prolazi test za neki a, slozen je\n",
    "    slozen = [prolazi_test for a, prolazi_test in lista_odgovora].count(False) > 0\n",
    "    return lista_odgovora, slozen\n",
    "\n",
    "def ispis_odgovora(lista_testova):\n",
    "    for baza, prolazi_test in lista_testova:\n",
    "        odgovor = 'ne' if not prolazi_test else ''\n",
    "        print(f\"Za bazu {baza}, broj {n} {odgovor} prolazi Fermatov test prostosti.\\n\")"
   ]
  },
  {
   "cell_type": "code",
   "execution_count": 7,
   "metadata": {},
   "outputs": [
    {
     "name": "stdout",
     "output_type": "stream",
     "text": [
      "Unesite prirodan broj čiju prostost testiramo: \n",
      "65\n"
     ]
    }
   ],
   "source": [
    "n = input(\"Unesite prirodan broj čiju prostost testiramo: \\n\")\n",
    "n = int(n)"
   ]
  },
  {
   "cell_type": "code",
   "execution_count": 8,
   "metadata": {},
   "outputs": [
    {
     "name": "stdout",
     "output_type": "stream",
     "text": [
      "Broj 65 je složen.\n",
      "\n"
     ]
    }
   ],
   "source": [
    "prost = provjeri_prostost(n)\n",
    "print(f\"Broj {n} {'je složen.' if not prost else 'je prost.'}\\n\")"
   ]
  },
  {
   "cell_type": "markdown",
   "metadata": {},
   "source": [
    "U $\\textit{broj testova}$  spremimo za koliko različitih baza želimo provesti Fermatov test. Za potrebe usporedbe Fermatova i Miller-Rabinova testa, za ulaz $n$ provedimo testove za sve baze $a$, $1 \\leq a \\leq n-1$."
   ]
  },
  {
   "cell_type": "code",
   "execution_count": 9,
   "metadata": {},
   "outputs": [
    {
     "name": "stdout",
     "output_type": "stream",
     "text": [
      "Nakon 64 provođenja Fermatova testa prostosti: broj 65 je složen.\n",
      "\n",
      "Za bazu 1, broj 65  prolazi Fermatov test prostosti.\n",
      "\n",
      "Za bazu 2, broj 65 ne prolazi Fermatov test prostosti.\n",
      "\n",
      "Za bazu 3, broj 65 ne prolazi Fermatov test prostosti.\n",
      "\n",
      "Za bazu 4, broj 65 ne prolazi Fermatov test prostosti.\n",
      "\n",
      "Za bazu 5, broj 65 ne prolazi Fermatov test prostosti.\n",
      "\n",
      "Za bazu 6, broj 65 ne prolazi Fermatov test prostosti.\n",
      "\n",
      "Za bazu 7, broj 65 ne prolazi Fermatov test prostosti.\n",
      "\n",
      "Za bazu 8, broj 65  prolazi Fermatov test prostosti.\n",
      "\n",
      "Za bazu 9, broj 65 ne prolazi Fermatov test prostosti.\n",
      "\n",
      "Za bazu 10, broj 65 ne prolazi Fermatov test prostosti.\n",
      "\n",
      "Za bazu 11, broj 65 ne prolazi Fermatov test prostosti.\n",
      "\n",
      "Za bazu 12, broj 65  prolazi Fermatov test prostosti.\n",
      "\n",
      "Za bazu 13, broj 65 ne prolazi Fermatov test prostosti.\n",
      "\n",
      "Za bazu 14, broj 65  prolazi Fermatov test prostosti.\n",
      "\n",
      "Za bazu 15, broj 65 ne prolazi Fermatov test prostosti.\n",
      "\n",
      "Za bazu 16, broj 65 ne prolazi Fermatov test prostosti.\n",
      "\n",
      "Za bazu 17, broj 65 ne prolazi Fermatov test prostosti.\n",
      "\n",
      "Za bazu 18, broj 65  prolazi Fermatov test prostosti.\n",
      "\n",
      "Za bazu 19, broj 65 ne prolazi Fermatov test prostosti.\n",
      "\n",
      "Za bazu 20, broj 65 ne prolazi Fermatov test prostosti.\n",
      "\n",
      "Za bazu 21, broj 65  prolazi Fermatov test prostosti.\n",
      "\n",
      "Za bazu 22, broj 65 ne prolazi Fermatov test prostosti.\n",
      "\n",
      "Za bazu 23, broj 65 ne prolazi Fermatov test prostosti.\n",
      "\n",
      "Za bazu 24, broj 65 ne prolazi Fermatov test prostosti.\n",
      "\n",
      "Za bazu 25, broj 65 ne prolazi Fermatov test prostosti.\n",
      "\n",
      "Za bazu 26, broj 65 ne prolazi Fermatov test prostosti.\n",
      "\n",
      "Za bazu 27, broj 65  prolazi Fermatov test prostosti.\n",
      "\n",
      "Za bazu 28, broj 65 ne prolazi Fermatov test prostosti.\n",
      "\n",
      "Za bazu 29, broj 65 ne prolazi Fermatov test prostosti.\n",
      "\n",
      "Za bazu 30, broj 65 ne prolazi Fermatov test prostosti.\n",
      "\n",
      "Za bazu 31, broj 65  prolazi Fermatov test prostosti.\n",
      "\n",
      "Za bazu 32, broj 65 ne prolazi Fermatov test prostosti.\n",
      "\n",
      "Za bazu 33, broj 65 ne prolazi Fermatov test prostosti.\n",
      "\n",
      "Za bazu 34, broj 65  prolazi Fermatov test prostosti.\n",
      "\n",
      "Za bazu 35, broj 65 ne prolazi Fermatov test prostosti.\n",
      "\n",
      "Za bazu 36, broj 65 ne prolazi Fermatov test prostosti.\n",
      "\n",
      "Za bazu 37, broj 65 ne prolazi Fermatov test prostosti.\n",
      "\n",
      "Za bazu 38, broj 65  prolazi Fermatov test prostosti.\n",
      "\n",
      "Za bazu 39, broj 65 ne prolazi Fermatov test prostosti.\n",
      "\n",
      "Za bazu 40, broj 65 ne prolazi Fermatov test prostosti.\n",
      "\n",
      "Za bazu 41, broj 65 ne prolazi Fermatov test prostosti.\n",
      "\n",
      "Za bazu 42, broj 65 ne prolazi Fermatov test prostosti.\n",
      "\n",
      "Za bazu 43, broj 65 ne prolazi Fermatov test prostosti.\n",
      "\n",
      "Za bazu 44, broj 65  prolazi Fermatov test prostosti.\n",
      "\n",
      "Za bazu 45, broj 65 ne prolazi Fermatov test prostosti.\n",
      "\n",
      "Za bazu 46, broj 65 ne prolazi Fermatov test prostosti.\n",
      "\n",
      "Za bazu 47, broj 65  prolazi Fermatov test prostosti.\n",
      "\n",
      "Za bazu 48, broj 65 ne prolazi Fermatov test prostosti.\n",
      "\n",
      "Za bazu 49, broj 65 ne prolazi Fermatov test prostosti.\n",
      "\n",
      "Za bazu 50, broj 65 ne prolazi Fermatov test prostosti.\n",
      "\n",
      "Za bazu 51, broj 65  prolazi Fermatov test prostosti.\n",
      "\n",
      "Za bazu 52, broj 65 ne prolazi Fermatov test prostosti.\n",
      "\n",
      "Za bazu 53, broj 65  prolazi Fermatov test prostosti.\n",
      "\n",
      "Za bazu 54, broj 65 ne prolazi Fermatov test prostosti.\n",
      "\n",
      "Za bazu 55, broj 65 ne prolazi Fermatov test prostosti.\n",
      "\n",
      "Za bazu 56, broj 65 ne prolazi Fermatov test prostosti.\n",
      "\n",
      "Za bazu 57, broj 65  prolazi Fermatov test prostosti.\n",
      "\n",
      "Za bazu 58, broj 65 ne prolazi Fermatov test prostosti.\n",
      "\n",
      "Za bazu 59, broj 65 ne prolazi Fermatov test prostosti.\n",
      "\n",
      "Za bazu 60, broj 65 ne prolazi Fermatov test prostosti.\n",
      "\n",
      "Za bazu 61, broj 65 ne prolazi Fermatov test prostosti.\n",
      "\n",
      "Za bazu 62, broj 65 ne prolazi Fermatov test prostosti.\n",
      "\n",
      "Za bazu 63, broj 65 ne prolazi Fermatov test prostosti.\n",
      "\n",
      "Za bazu 64, broj 65  prolazi Fermatov test prostosti.\n",
      "\n"
     ]
    }
   ],
   "source": [
    "broj_testova = int(n)-1\n",
    "baze = generiraj_baze(n, broj_testova)\n",
    "lista_testova_ft, slozen_ft = provjeri_Fermatovim_testom(n, baze)\n",
    "print(f\"Nakon {broj_testova} provođenja Fermatova testa prostosti:\" +\n",
    "      f\" broj {n} {'je složen' if slozen_ft else 'je vjerojatno prost'}.\\n\")\n",
    "ispis_odgovora(lista_testova_ft)"
   ]
  },
  {
   "cell_type": "markdown",
   "metadata": {},
   "source": [
    "Kako je detaljno objašnjeno u prvom dijelu seminara, Fermatovim testom prostosti prost broj nikada ne može biti proglašen složenim, dok je obratno moguće. Ukoliko složen broj prođe test za proizvoljan broj različitih baza, kažemo da je broj pseudoprost u svakoj od tih baza.\n",
    "Proizvoljnu bazu $a$ za koju složen broj $n$ prolazi Fermatov test prostosti nazivamo Fermatov lažov.\n",
    "U slučaju da je broj $n$ složen, možemo se zapitati za koje proizvoljne baze $a$, ukoliko takve postoje, broj $n$ prolazi test. \n",
    "\n",
    "Sukladno tome, definirat ćemo funkciju koja za složen broj $n$ izdvaja lažove ukoliko takvi postoje u skupu baza testa."
   ]
  },
  {
   "cell_type": "code",
   "execution_count": 10,
   "metadata": {},
   "outputs": [],
   "source": [
    "def lazovi(n, lista_testova, slozen):\n",
    "    if not slozen:\n",
    "        print(\"Među nasumično odabranim bazama nema lažova.\")\n",
    "        return []\n",
    "    lazovi = [baza for baza, odgovor in lista_testova if odgovor]\n",
    "    return lazovi"
   ]
  },
  {
   "cell_type": "code",
   "execution_count": 11,
   "metadata": {},
   "outputs": [
    {
     "name": "stdout",
     "output_type": "stream",
     "text": [
      "Fermatovi lažovi među testiranim bazama za broj 65: \n",
      "[1, 8, 12, 14, 18, 21, 27, 31, 34, 38, 44, 47, 51, 53, 57, 64]\n"
     ]
    }
   ],
   "source": [
    "print(f\"Fermatovi lažovi među testiranim bazama za broj {n}: \")\n",
    "fermatovi_lazovi = lazovi(n, lista_testova_ft, slozen_ft)\n",
    "print(fermatovi_lazovi)"
   ]
  },
  {
   "cell_type": "markdown",
   "metadata": {},
   "source": [
    "\n",
    "\n"
   ]
  },
  {
   "cell_type": "markdown",
   "metadata": {},
   "source": [
    "### Miller-Rabinov test prostosti\n",
    "\n",
    "Miller-Rabinov test sve parne brojeve proglasi složenima. Zanimljivo je i od interesa promatrati što se događa s neparnim brojevima.\n",
    "\n",
    "\n",
    "Ukoliko je $n$ neparan, $n-1$ je paran broj. Rastavimo ga: $n-1 = 2^{s}\\cdot r$.\n",
    "- Promotrimo slučaj kada je $n$ prost broj. Tada po Malom Fermatovom teoremu, za proizvoljnu bazu $a$ vrijedi $a^{n-1} \\equiv a^{2^sr}\\equiv 1 \\pmod{n}$. Vađenjem drugog korijena dobijemo $a^{2^{s-1}r} \\equiv \\pm 1 \\pmod{n}$. Tada će se, uzastopnim vađenjem korijena, dogoditi jedno od sljedećeg:\n",
    "    - u nekoj iteraciji $j$, $0 \\leq j \\leq s-1$ dobit ćemo $a^{2^jr}\\equiv -1 \\pmod{n}$\n",
    "    - dobit ćemo $a^{r}\\equiv 1 \\pmod{n}$\n",
    "    \n",
    "Navedeni slučajevi bit će kriteriji određivanja (pseudo)prostosti ulaza $n$."
   ]
  },
  {
   "cell_type": "code",
   "execution_count": 12,
   "metadata": {},
   "outputs": [],
   "source": [
    "def rastavi(n):\n",
    "    s = 0\n",
    "    while n/2 > 0 and n/2 == int(n/2):\n",
    "        s = s + 1\n",
    "        n = n/2\n",
    "    r = n\n",
    "    return s, r"
   ]
  },
  {
   "cell_type": "code",
   "execution_count": 13,
   "metadata": {},
   "outputs": [],
   "source": [
    "def Miller_Rabinov_test(n, a):\n",
    "    if n == 2:\n",
    "        return False\n",
    "    if n % 2 == 0:\n",
    "        return False\n",
    "    s, r = rastavi(n-1)\n",
    "    y = a**r % n\n",
    "    if y != 1 and y != n-1:\n",
    "        for j in range(1, s):\n",
    "            y = (y*y) % n\n",
    "            if y == 1:\n",
    "                return False\n",
    "            if y == n-1:\n",
    "                return True\n",
    "        if y != n-1:\n",
    "            return False\n",
    "    return True            "
   ]
  },
  {
   "cell_type": "code",
   "execution_count": 14,
   "metadata": {},
   "outputs": [],
   "source": [
    "def provjeri_Miller_Rabinom(n, baze):\n",
    "    try:\n",
    "        n = int(n)\n",
    "    except:\n",
    "        print(\"Uneseni broj nije prirodan.\");\n",
    "        return\n",
    "    lista_odgovora = [(a, Miller_Rabinov_test(n, a)) for a in baze]\n",
    "    slozen = [prolazi_test for a, prolazi_test in lista_odgovora].count(False) > 0\n",
    "    return lista_odgovora, slozen"
   ]
  },
  {
   "cell_type": "markdown",
   "metadata": {},
   "source": [
    "Provedimo Miller-Rabinov test za isti ulaz $n$ te isti skup baza kao i u Fermatovom testu."
   ]
  },
  {
   "cell_type": "code",
   "execution_count": 15,
   "metadata": {},
   "outputs": [
    {
     "name": "stdout",
     "output_type": "stream",
     "text": [
      "Fermatov test prostosti: broj 65 je složen.\n",
      "\n",
      "Za bazu 1, broj 65  prolazi Fermatov test prostosti.\n",
      "\n",
      "Za bazu 2, broj 65 ne prolazi Fermatov test prostosti.\n",
      "\n",
      "Za bazu 3, broj 65 ne prolazi Fermatov test prostosti.\n",
      "\n",
      "Za bazu 4, broj 65 ne prolazi Fermatov test prostosti.\n",
      "\n",
      "Za bazu 5, broj 65 ne prolazi Fermatov test prostosti.\n",
      "\n",
      "Za bazu 6, broj 65 ne prolazi Fermatov test prostosti.\n",
      "\n",
      "Za bazu 7, broj 65 ne prolazi Fermatov test prostosti.\n",
      "\n",
      "Za bazu 8, broj 65  prolazi Fermatov test prostosti.\n",
      "\n",
      "Za bazu 9, broj 65 ne prolazi Fermatov test prostosti.\n",
      "\n",
      "Za bazu 10, broj 65 ne prolazi Fermatov test prostosti.\n",
      "\n",
      "Za bazu 11, broj 65 ne prolazi Fermatov test prostosti.\n",
      "\n",
      "Za bazu 12, broj 65 ne prolazi Fermatov test prostosti.\n",
      "\n",
      "Za bazu 13, broj 65 ne prolazi Fermatov test prostosti.\n",
      "\n",
      "Za bazu 14, broj 65 ne prolazi Fermatov test prostosti.\n",
      "\n",
      "Za bazu 15, broj 65 ne prolazi Fermatov test prostosti.\n",
      "\n",
      "Za bazu 16, broj 65 ne prolazi Fermatov test prostosti.\n",
      "\n",
      "Za bazu 17, broj 65 ne prolazi Fermatov test prostosti.\n",
      "\n",
      "Za bazu 18, broj 65  prolazi Fermatov test prostosti.\n",
      "\n",
      "Za bazu 19, broj 65 ne prolazi Fermatov test prostosti.\n",
      "\n",
      "Za bazu 20, broj 65 ne prolazi Fermatov test prostosti.\n",
      "\n",
      "Za bazu 21, broj 65 ne prolazi Fermatov test prostosti.\n",
      "\n",
      "Za bazu 22, broj 65 ne prolazi Fermatov test prostosti.\n",
      "\n",
      "Za bazu 23, broj 65 ne prolazi Fermatov test prostosti.\n",
      "\n",
      "Za bazu 24, broj 65 ne prolazi Fermatov test prostosti.\n",
      "\n",
      "Za bazu 25, broj 65 ne prolazi Fermatov test prostosti.\n",
      "\n",
      "Za bazu 26, broj 65 ne prolazi Fermatov test prostosti.\n",
      "\n",
      "Za bazu 27, broj 65 ne prolazi Fermatov test prostosti.\n",
      "\n",
      "Za bazu 28, broj 65 ne prolazi Fermatov test prostosti.\n",
      "\n",
      "Za bazu 29, broj 65 ne prolazi Fermatov test prostosti.\n",
      "\n",
      "Za bazu 30, broj 65 ne prolazi Fermatov test prostosti.\n",
      "\n",
      "Za bazu 31, broj 65 ne prolazi Fermatov test prostosti.\n",
      "\n",
      "Za bazu 32, broj 65 ne prolazi Fermatov test prostosti.\n",
      "\n",
      "Za bazu 33, broj 65 ne prolazi Fermatov test prostosti.\n",
      "\n",
      "Za bazu 34, broj 65 ne prolazi Fermatov test prostosti.\n",
      "\n",
      "Za bazu 35, broj 65 ne prolazi Fermatov test prostosti.\n",
      "\n",
      "Za bazu 36, broj 65 ne prolazi Fermatov test prostosti.\n",
      "\n",
      "Za bazu 37, broj 65 ne prolazi Fermatov test prostosti.\n",
      "\n",
      "Za bazu 38, broj 65 ne prolazi Fermatov test prostosti.\n",
      "\n",
      "Za bazu 39, broj 65 ne prolazi Fermatov test prostosti.\n",
      "\n",
      "Za bazu 40, broj 65 ne prolazi Fermatov test prostosti.\n",
      "\n",
      "Za bazu 41, broj 65 ne prolazi Fermatov test prostosti.\n",
      "\n",
      "Za bazu 42, broj 65 ne prolazi Fermatov test prostosti.\n",
      "\n",
      "Za bazu 43, broj 65 ne prolazi Fermatov test prostosti.\n",
      "\n",
      "Za bazu 44, broj 65 ne prolazi Fermatov test prostosti.\n",
      "\n",
      "Za bazu 45, broj 65 ne prolazi Fermatov test prostosti.\n",
      "\n",
      "Za bazu 46, broj 65 ne prolazi Fermatov test prostosti.\n",
      "\n",
      "Za bazu 47, broj 65  prolazi Fermatov test prostosti.\n",
      "\n",
      "Za bazu 48, broj 65 ne prolazi Fermatov test prostosti.\n",
      "\n",
      "Za bazu 49, broj 65 ne prolazi Fermatov test prostosti.\n",
      "\n",
      "Za bazu 50, broj 65 ne prolazi Fermatov test prostosti.\n",
      "\n",
      "Za bazu 51, broj 65 ne prolazi Fermatov test prostosti.\n",
      "\n",
      "Za bazu 52, broj 65 ne prolazi Fermatov test prostosti.\n",
      "\n",
      "Za bazu 53, broj 65 ne prolazi Fermatov test prostosti.\n",
      "\n",
      "Za bazu 54, broj 65 ne prolazi Fermatov test prostosti.\n",
      "\n",
      "Za bazu 55, broj 65 ne prolazi Fermatov test prostosti.\n",
      "\n",
      "Za bazu 56, broj 65 ne prolazi Fermatov test prostosti.\n",
      "\n",
      "Za bazu 57, broj 65  prolazi Fermatov test prostosti.\n",
      "\n",
      "Za bazu 58, broj 65 ne prolazi Fermatov test prostosti.\n",
      "\n",
      "Za bazu 59, broj 65 ne prolazi Fermatov test prostosti.\n",
      "\n",
      "Za bazu 60, broj 65 ne prolazi Fermatov test prostosti.\n",
      "\n",
      "Za bazu 61, broj 65 ne prolazi Fermatov test prostosti.\n",
      "\n",
      "Za bazu 62, broj 65 ne prolazi Fermatov test prostosti.\n",
      "\n",
      "Za bazu 63, broj 65 ne prolazi Fermatov test prostosti.\n",
      "\n",
      "Za bazu 64, broj 65  prolazi Fermatov test prostosti.\n",
      "\n"
     ]
    }
   ],
   "source": [
    "lista_testova_mr, slozen_mr = provjeri_Miller_Rabinom(n, baze)\n",
    "print(f\"Fermatov test prostosti: broj {n} {'je složen' if slozen_mr else 'je vjerojatno prost'}.\\n\")\n",
    "ispis_odgovora(lista_testova_mr)"
   ]
  },
  {
   "cell_type": "code",
   "execution_count": 16,
   "metadata": {},
   "outputs": [
    {
     "name": "stdout",
     "output_type": "stream",
     "text": [
      "Strogi lažovi među testiranim bazama za broj 65: \n",
      "[1, 8, 18, 47, 57, 64]\n"
     ]
    }
   ],
   "source": [
    "print(f\"Strogi lažovi među testiranim bazama za broj {n}: \")\n",
    "strogi_lazovi = lazovi(n, lista_testova_mr, slozen_mr);\n",
    "print(strogi_lazovi)"
   ]
  },
  {
   "cell_type": "code",
   "execution_count": 17,
   "metadata": {},
   "outputs": [
    {
     "name": "stdout",
     "output_type": "stream",
     "text": [
      "Fermatovih lažova za broj 65 ima 16.\n",
      "Strogih lažova za broj 65 ima 6.\n"
     ]
    }
   ],
   "source": [
    "print(f\"Fermatovih lažova za broj {n} ima {len(fermatovi_lazovi)}.\")\n",
    "print(f\"Strogih lažova za broj {n} ima {len(strogi_lazovi)}.\")"
   ]
  },
  {
   "cell_type": "markdown",
   "metadata": {},
   "source": [
    "\n",
    "\n"
   ]
  },
  {
   "cell_type": "markdown",
   "metadata": {},
   "source": [
    "Znamo da za neparan složen broj $n > 9$ vrijedi da broj strogih lažova za $n$  nije veći od $\\frac{\\varphi(n)}{4}$, gdje je $\\varphi$ Eulerova funkcija.\n",
    "\n",
    "Uvjerimo se da za ulaz $n$ nejednakost zaista vrijedi."
   ]
  },
  {
   "cell_type": "code",
   "execution_count": 18,
   "metadata": {},
   "outputs": [],
   "source": [
    "def Eulerova_funkcija(n):\n",
    "    return [a for a in range(1, n) if nzd(a, n) == 1]"
   ]
  },
  {
   "cell_type": "code",
   "execution_count": 19,
   "metadata": {},
   "outputs": [
    {
     "name": "stdout",
     "output_type": "stream",
     "text": [
      "Strogih lažova za broj 65 ima 6.\n",
      "Relativno prostih baza s 65 ima: 48.\n",
      "Omjer: 0.125\n"
     ]
    }
   ],
   "source": [
    "broj_strogih_lazova = len(strogi_lazovi)\n",
    "broj_rel_prostih = len(Eulerova_funkcija(n))\n",
    "print(f\"Strogih lažova za broj {n} ima {broj_strogih_lazova}.\")\n",
    "print(f\"Relativno prostih baza s {n} ima: {broj_rel_prostih}.\")\n",
    "print(f\"Omjer: {broj_strogih_lazova/broj_rel_prostih}\")"
   ]
  },
  {
   "cell_type": "markdown",
   "metadata": {},
   "source": [
    "Miller-Rabinov test je točniji od Fermatovog testa. Inuitivno, za proizvoljan $n$ i bazu $a$, $1 \\leq a \\leq n-1$, Fermatovim testom provjeravamo vrijedi li kongruencija $a^{n-1}\\equiv 1 \\pmod{n}$, no provođenjem Miller-Rabinova testa vršimo još \"dublje\" provjere (kongruencija s $r$-tom potencijom i $2^jr$-tim potencijama od $a$).\n",
    "\n",
    "Neka je $n$ neparan složen broj te $a$ strogi lažov za broj $n$. Tada je $a$ ujedno i Fermatov lažov za broj $n$."
   ]
  }
 ],
 "metadata": {
  "kernelspec": {
   "display_name": "Python 3",
   "language": "python",
   "name": "python3"
  },
  "language_info": {
   "codemirror_mode": {
    "name": "ipython",
    "version": 3
   },
   "file_extension": ".py",
   "mimetype": "text/x-python",
   "name": "python",
   "nbconvert_exporter": "python",
   "pygments_lexer": "ipython3",
   "version": "3.7.4"
  }
 },
 "nbformat": 4,
 "nbformat_minor": 2
}
